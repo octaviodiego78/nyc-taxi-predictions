{
 "cells": [
  {
   "cell_type": "code",
   "execution_count": 2,
   "id": "eb192dc6-fe5f-4076-8413-597078316f9d",
   "metadata": {},
   "outputs": [
    {
     "name": "stdout",
     "output_type": "stream",
     "text": [
      "📂 Repo root: C:\\Users\\cheve\\nyc-taxi-predictionss\n",
      "⚠️ No existe databricks_host.txt\n",
      "HOST : None\n",
      "TOKEN: Sí ✅\n"
     ]
    },
    {
     "ename": "AssertionError",
     "evalue": "🔥 ERROR: Faltan credenciales Databricks (HOST/TOKEN).",
     "output_type": "error",
     "traceback": [
      "\u001b[31m---------------------------------------------------------------------------\u001b[39m",
      "\u001b[31mAssertionError\u001b[39m                            Traceback (most recent call last)",
      "\u001b[36mCell\u001b[39m\u001b[36m \u001b[39m\u001b[32mIn[2]\u001b[39m\u001b[32m, line 46\u001b[39m\n\u001b[32m     43\u001b[39m \u001b[38;5;28mprint\u001b[39m(\u001b[33m\"\u001b[39m\u001b[33mHOST :\u001b[39m\u001b[33m\"\u001b[39m, host)\n\u001b[32m     44\u001b[39m \u001b[38;5;28mprint\u001b[39m(\u001b[33m\"\u001b[39m\u001b[33mTOKEN:\u001b[39m\u001b[33m\"\u001b[39m, \u001b[33m\"\u001b[39m\u001b[33mSí ✅\u001b[39m\u001b[33m\"\u001b[39m \u001b[38;5;28;01mif\u001b[39;00m token \u001b[38;5;28;01melse\u001b[39;00m \u001b[33m\"\u001b[39m\u001b[33mNo ❌\u001b[39m\u001b[33m\"\u001b[39m)\n\u001b[32m---> \u001b[39m\u001b[32m46\u001b[39m \u001b[38;5;28;01massert\u001b[39;00m host \u001b[38;5;129;01mand\u001b[39;00m token, \u001b[33m\"\u001b[39m\u001b[33m🔥 ERROR: Faltan credenciales Databricks (HOST/TOKEN).\u001b[39m\u001b[33m\"\u001b[39m\n\u001b[32m     48\u001b[39m \u001b[38;5;66;03m# --- 5) Ping directo a API Databricks MLflow ---\u001b[39;00m\n\u001b[32m     49\u001b[39m url = host.rstrip(\u001b[33m\"\u001b[39m\u001b[33m/\u001b[39m\u001b[33m\"\u001b[39m) + \u001b[33m\"\u001b[39m\u001b[33m/api/2.0/mlflow/experiments/list\u001b[39m\u001b[33m\"\u001b[39m\n",
      "\u001b[31mAssertionError\u001b[39m: 🔥 ERROR: Faltan credenciales Databricks (HOST/TOKEN)."
     ]
    }
   ],
   "source": [
    "import os, json, requests\n",
    "from pathlib import Path\n",
    "import mlflow\n",
    "\n",
    "# --- 1) Subir al root del repositorio ---\n",
    "def goto_repo_root(max_hops=7):\n",
    "    here = Path.cwd()\n",
    "    for _ in range(max_hops):\n",
    "        if (here / \".git\").exists():\n",
    "            os.chdir(here)\n",
    "            return here\n",
    "        here = here.parent\n",
    "    return Path.cwd()\n",
    "\n",
    "repo_root = goto_repo_root()\n",
    "print(\"📂 Repo root:\", repo_root)\n",
    "\n",
    "# --- 2) Cargar TOKEN desde .env ---\n",
    "try:\n",
    "    from dotenv import load_dotenv, find_dotenv\n",
    "    envp = find_dotenv(filename=\".env\", usecwd=True)\n",
    "    if envp:\n",
    "        load_dotenv(dotenv_path=envp, override=True)\n",
    "    else:\n",
    "        print(\"⚠️ .env no encontrado (solo estamos usando $env del sistema)\")\n",
    "except Exception as e:\n",
    "    print(\"dotenv optional:\", e)\n",
    "\n",
    "# --- 3) Cargar HOST desde databricks_host.txt (versionado) ---\n",
    "host_file = repo_root / \"databricks_host.txt\"\n",
    "if host_file.exists():\n",
    "    h = host_file.read_text(encoding=\"utf-8\").strip()\n",
    "    # limpiar BOM si existiera\n",
    "    h2 = h.lstrip(\"\\ufeff\").strip()\n",
    "    os.environ[\"DATABRICKS_HOST\"] = h2\n",
    "else:\n",
    "    print(\"⚠️ No existe databricks_host.txt\")\n",
    "\n",
    "# --- 4) Validar credenciales ---\n",
    "host  = os.getenv(\"DATABRICKS_HOST\")\n",
    "token = os.getenv(\"DATABRICKS_TOKEN\")\n",
    "\n",
    "print(\"HOST :\", host)\n",
    "print(\"TOKEN:\", \"Sí ✅\" if token else \"No ❌\")\n",
    "\n",
    "assert host and token, \"🔥 ERROR: Faltan credenciales Databricks (HOST/TOKEN).\"\n",
    "\n",
    "# --- 5) Ping directo a API Databricks MLflow ---\n",
    "url = host.rstrip(\"/\") + \"/api/2.0/mlflow/experiments/list\"\n",
    "r = requests.get(url, headers={\"Authorization\": f\"Bearer {token}\"}, timeout=20)\n",
    "print(\"📡 /experiments/list ->\", r.status_code)\n",
    "if r.status_code != 200:\n",
    "    print(\"❌ Detalle:\", r.text[:400])\n",
    "r.raise_for_status()\n",
    "\n",
    "# --- 6) Configurar MLflow ---\n",
    "mlflow.set_tracking_uri(\"databricks\")\n",
    "mlflow.set_registry_uri(\"databricks\")\n",
    "print(\"✅ MLflow tracking URI:\", mlflow.get_tracking_uri())\n",
    "\n"
   ]
  },
  {
   "cell_type": "code",
   "execution_count": null,
   "id": "fa20ffb4-d9b4-488d-adf0-360e006db626",
   "metadata": {},
   "outputs": [],
   "source": []
  }
 ],
 "metadata": {
  "kernelspec": {
   "display_name": "Python 3 (ipykernel)",
   "language": "python",
   "name": "python3"
  },
  "language_info": {
   "codemirror_mode": {
    "name": "ipython",
    "version": 3
   },
   "file_extension": ".py",
   "mimetype": "text/x-python",
   "name": "python",
   "nbconvert_exporter": "python",
   "pygments_lexer": "ipython3",
   "version": "3.13.7"
  }
 },
 "nbformat": 4,
 "nbformat_minor": 5
}
