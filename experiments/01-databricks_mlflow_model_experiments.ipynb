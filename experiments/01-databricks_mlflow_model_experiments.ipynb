{
 "cells": [
  {
   "cell_type": "code",
   "execution_count": 9,
   "id": "ee7044cc-c93f-44de-a895-241bc02adf01",
   "metadata": {},
   "outputs": [
    {
     "name": "stdout",
     "output_type": "stream",
     "text": [
      "DATABRICKS_HOST = None\n",
      "TOKEN definido?   Sí\n",
      "MLflow Tracking URI: databricks\n"
     ]
    }
   ],
   "source": [
    "import os\n",
    "from dotenv import load_dotenv\n",
    "load_dotenv()\n",
    "\n",
    "import mlflow\n",
    "os.environ[\"MLFLOW_TRACKING_URI\"] = \"databricks\"\n",
    "mlflow.set_tracking_uri(\"databricks\")\n",
    "\n",
    "print(\"DATABRICKS_HOST =\", os.getenv(\"DATABRICKS_HOST\"))\n",
    "print(\"TOKEN definido?  \", \"Sí\" if os.getenv(\"DATABRICKS_TOKEN\") else \"No\")\n",
    "print(\"MLflow Tracking URI:\", mlflow.get_tracking_uri())\n"
   ]
  },
  {
   "cell_type": "code",
   "execution_count": 13,
   "id": "33b7263b-9d2c-487a-974c-a5ef02063a6b",
   "metadata": {},
   "outputs": [
    {
     "name": "stdout",
     "output_type": "stream",
     "text": [
      "HOST: None\n",
      "TOKEN definido?: Sí\n"
     ]
    }
   ],
   "source": [
    "import os\n",
    "from dotenv import load_dotenv\n",
    "load_dotenv(override=True)\n",
    "\n",
    "print(\"HOST:\", os.getenv(\"DATABRICKS_HOST\"))\n",
    "print(\"TOKEN definido?:\", \"Sí\" if os.getenv(\"DATABRICKS_TOKEN\") else \"No\")\n"
   ]
  },
  {
   "cell_type": "code",
   "execution_count": 7,
   "id": "6cb44926-65b4-4aa1-a06c-4c2fc8aa5d96",
   "metadata": {},
   "outputs": [
    {
     "data": {
      "text/plain": [
       "((4000, 1922), (1000, 1922))"
      ]
     },
     "execution_count": 7,
     "metadata": {},
     "output_type": "execute_result"
    }
   ],
   "source": [
    "import numpy as np\n",
    "import pandas as pd\n",
    "from sklearn.feature_extraction import DictVectorizer\n",
    "from sklearn.model_selection import train_test_split\n",
    "\n",
    "# dataset mini: columnas similares a las que usas\n",
    "N = 5000\n",
    "rng = np.random.default_rng(42)\n",
    "df = pd.DataFrame({\n",
    "    \"PULocationID\": rng.integers(1, 50, size=N),\n",
    "    \"DOLocationID\": rng.integers(1, 50, size=N),\n",
    "    \"trip_distance\": rng.gamma(2.0, 1.5, size=N),\n",
    "})\n",
    "\n",
    "# target (duration) con algo de señal\n",
    "df[\"duration\"] = 5 + 2.5*df[\"trip_distance\"] + rng.normal(0, 2.0, size=N)\n",
    "\n",
    "# split\n",
    "df_train, df_val = train_test_split(df, test_size=0.2, random_state=42)\n",
    "\n",
    "# features como en tu notebook (PU_DO categórico + numérico)\n",
    "df_train = df_train.copy()\n",
    "df_val   = df_val.copy()\n",
    "df_train[\"PU_DO\"] = df_train[\"PULocationID\"].astype(str) + \"_\" + df_train[\"DOLocationID\"].astype(str)\n",
    "df_val[\"PU_DO\"]   = df_val[\"PULocationID\"].astype(str)   + \"_\" + df_val[\"DOLocationID\"].astype(str)\n",
    "\n",
    "categorical = [\"PU_DO\"]\n",
    "numerical   = [\"trip_distance\"]\n",
    "\n",
    "dv = DictVectorizer()\n",
    "train_dicts = df_train[categorical + numerical].to_dict(orient=\"records\")\n",
    "X_train = dv.fit_transform(train_dicts)\n",
    "\n",
    "val_dicts = df_val[categorical + numerical].to_dict(orient=\"records\")\n",
    "X_val = dv.transform(val_dicts)\n",
    "\n",
    "y_train = df_train[\"duration\"].values\n",
    "y_val   = df_val[\"duration\"].values\n",
    "\n",
    "X_train.shape, X_val.shape\n"
   ]
  },
  {
   "cell_type": "code",
   "execution_count": null,
   "id": "68e8f1d6-abfc-4101-bbf5-76fe45c4115a",
   "metadata": {},
   "outputs": [],
   "source": []
  }
 ],
 "metadata": {
  "kernelspec": {
   "display_name": "Python 3 (ipykernel)",
   "language": "python",
   "name": "python3"
  },
  "language_info": {
   "codemirror_mode": {
    "name": "ipython",
    "version": 3
   },
   "file_extension": ".py",
   "mimetype": "text/x-python",
   "name": "python",
   "nbconvert_exporter": "python",
   "pygments_lexer": "ipython3",
   "version": "3.13.7"
  }
 },
 "nbformat": 4,
 "nbformat_minor": 5
}
